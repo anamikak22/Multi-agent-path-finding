{
  "cells": [
    {
      "cell_type": "markdown",
      "metadata": {
        "id": "QG-GYr3u-lfF"
      },
      "source": [
        "# **AIFA Assignment 1**"
      ]
    },
    {
      "cell_type": "markdown",
      "metadata": {
        "id": "PQB5PxHG_9b1"
      },
      "source": [
        "**Team Members:**\n",
        "\n",
        "Anamika Kumari (20AE3AI01)\n",
        "\n",
        "Kartik Narayan Sahu (20AE3AI04)\n",
        "\n",
        "Niharika Singh (20MI3AI17)"
      ]
    },
    {
      "cell_type": "code",
      "execution_count": 1,
      "metadata": {
        "id": "xsork7bKCyDR"
      },
      "outputs": [],
      "source": [
        "# Import necessary libraries\n",
        "\n",
        "import random\n",
        "import heapq\n",
        "import numpy as np\n",
        "import time\n",
        "import pandas as pd\n",
        "import matplotlib.pyplot as plt\n",
        "import cv2"
      ]
    },
    {
      "cell_type": "code",
      "execution_count": 2,
      "metadata": {
        "colab": {
          "base_uri": "https://localhost:8080/"
        },
        "id": "q5VgdYniC7jd",
        "outputId": "ed39ec80-51b8-4700-a363-4e7f8430687c"
      },
      "outputs": [
        {
          "name": "stdout",
          "output_type": "stream",
          "text": [
            "Input:\n",
            "\n",
            "Initial Positions: [(0, 0), (9, 5), (7, 1)]\n",
            "Goal Positions: [(12, 3), (10, 0), (5, 0)]\n",
            "Pickup Positions: [(0, 5), (6, 4), (12, 1)]\n",
            "Delivery Positions: [(8, 0), (5, 5), (15, 3)]\n",
            "Obstacles: [(13, 0), (1, 2), (15, 2), (10, 4), (3, 5)]\n"
          ]
        }
      ],
      "source": [
        "# Define grid dimensions and initial configuration\n",
        "grid_rows, grid_cols = 6, 17\n",
        "num_agents = 3\n",
        "\n",
        "initial_pos = [(0, 0), (9, 5), (7, 1)]\n",
        "\n",
        "pickup_pos = [(0, 5), (6, 4), (12, 1)]\n",
        "\n",
        "goal_pos = [(12, 3), (10, 0), (5, 0)]\n",
        "\n",
        "delivery_pos = [(8, 0), (5, 5), (15, 3)]\n",
        "\n",
        "obstacles = [(13, 0), (1, 2), (15, 2), (10, 4), (3, 5)]\n",
        "print(f'Input:\\n')\n",
        "print(f'Initial Positions: {initial_pos}\\nGoal Positions: {goal_pos}\\nPickup Positions: {pickup_pos}\\nDelivery Positions: {delivery_pos}\\nObstacles: {obstacles}')"
      ]
    },
    {
      "cell_type": "code",
      "execution_count": 3,
      "metadata": {
        "id": "TPYxeA5QHerv"
      },
      "outputs": [],
      "source": [
        "class Node:\n",
        "    def __init__(self, state, parent=None, cost=0, cost_heuristic=0, time = 0):\n",
        "        self.state = state  # Current state\n",
        "        self.parent = parent  # Parent node\n",
        "        self.cost = cost  # g(n): Cost from the start node to current node\n",
        "        self.heuristic = cost_heuristic  # h(n): Heuristic cost from current node to the goal\n",
        "\n",
        "    def __lt__(self, other):\n",
        "        # selecting the node with minimum f(n) value\n",
        "        # f(n) = g(n) + h(n)\n",
        "        return (self.cost + self.heuristic) < (other.cost + other.heuristic)"
      ]
    },
    {
      "cell_type": "code",
      "execution_count": 4,
      "metadata": {
        "id": "3immRC8kHh6X"
      },
      "outputs": [],
      "source": [
        "#####################################......Constraints......#####################################\n",
        "\n",
        "def is_valid_location(state):\n",
        "    x, y = state\n",
        "    return 0 <= y < grid_rows and 0 <= x < grid_cols"
      ]
    },
    {
      "cell_type": "code",
      "execution_count": 5,
      "metadata": {
        "id": "JeO4E0e_HkGP"
      },
      "outputs": [],
      "source": [
        "#####################################......Constraints......#####################################\n",
        "\n",
        "def is_location_constrained(agent, state, timestep, constraints):\n",
        "    return any((a, s, t) == (agent, state, timestep) for (a, s, t) in constraints)"
      ]
    },
    {
      "cell_type": "code",
      "execution_count": 6,
      "metadata": {
        "id": "lZKkSfNFHmYH"
      },
      "outputs": [],
      "source": [
        "#####################################......Constraints......#####################################\n",
        "\n",
        "def is_obstacle(state):\n",
        "    return state in obstacles"
      ]
    },
    {
      "cell_type": "code",
      "execution_count": 7,
      "metadata": {
        "id": "zx90XvA5HHqg"
      },
      "outputs": [],
      "source": [
        "def evaluate_cost_heuristic(state, goal):\n",
        "    return abs(state[0] - goal[0]) + abs(state[1] - goal[1])      # calculation of Cost_heuristics (i.e, manhattan distance between two cells)"
      ]
    },
    {
      "cell_type": "code",
      "execution_count": 8,
      "metadata": {
        "id": "-pjrXGD1HAnb"
      },
      "outputs": [],
      "source": [
        "# Get valid neighbours\n",
        "\n",
        "def get_valid_neighbors(agent, state, timestep, constraints):\n",
        "    neighbors = []\n",
        "    x, y = state\n",
        "    for dx, dy in [(1, 0), (-1, 0), (0, 1), (0, -1)]:\n",
        "        new_x, new_y = x + dx, y + dy\n",
        "        if is_valid_location((new_x, new_y)) and not is_obstacle((new_x, new_y)) and not is_location_constrained(agent, (new_x, new_y), timestep + 1, constraints):\n",
        "            neighbors.append((new_x, new_y))\n",
        "    return neighbors"
      ]
    },
    {
      "cell_type": "code",
      "execution_count": 9,
      "metadata": {
        "id": "qi0dla_zyov2"
      },
      "outputs": [],
      "source": [
        "# Search for the path\n",
        "\n",
        "def search(initial, goal, agent, constraints):\n",
        "  OPEN = []\n",
        "\n",
        "  start_node  = Node(state = initial, cost = 0, cost_heuristic = evaluate_cost_heuristic(initial, goal))\n",
        "  heapq.heappush(OPEN, (start_node, 0))\n",
        "\n",
        "  while OPEN:\n",
        "    current_node, current_timestep = heapq.heappop(OPEN)\n",
        "    if current_node.state == goal:\n",
        "      path = []\n",
        "      while current_node:\n",
        "        path.append(current_node.state)\n",
        "        current_node = current_node.parent\n",
        "      return path[::-1]\n",
        "\n",
        "    for neighbor_state in get_valid_neighbors(agent, current_node.state, current_timestep, constraints):\n",
        "      tentative_cost = current_node.cost + 1\n",
        "\n",
        "      neighbor_node = Node(state=neighbor_state, parent=current_node, cost=tentative_cost,\n",
        "                           cost_heuristic=evaluate_cost_heuristic(neighbor_state, goal))\n",
        "      if neighbor_node not in OPEN:\n",
        "        heapq.heappush(OPEN, (neighbor_node, current_timestep + 1))\n",
        "\n",
        "  return None\n"
      ]
    },
    {
      "cell_type": "code",
      "execution_count": 10,
      "metadata": {
        "id": "lNyWHaw0Hy7w"
      },
      "outputs": [],
      "source": [
        "# Validation of the path\n",
        "\n",
        "def validate_paths(node):\n",
        "    max_length = max(len(path) for path in node.solution)  # Find the maximum pathlength\n",
        "    conflicts = []\n",
        "    for i in range(max_length):\n",
        "        for j in range(num_agents):\n",
        "            if i < len(node.solution[j]):\n",
        "                for l in range(j + 1, num_agents):\n",
        "                    if i < len(node.solution[l]) and node.solution[j][i] == node.solution[l][i]:\n",
        "                        conflicts = [j, l, node.solution[j][i], i]\n",
        "                        return conflicts\n",
        "\n",
        "    return None"
      ]
    },
    {
      "cell_type": "code",
      "execution_count": 11,
      "metadata": {
        "id": "qHHQzkGdw5KT"
      },
      "outputs": [],
      "source": [
        "def find_paths(initial_pos, final_pos, constraints):\n",
        "  paths = []\n",
        "  for agent, (initial,goal) in enumerate(zip(initial_pos, final_pos)):\n",
        "    sub_path = search(initial, goal, agent, constraints)\n",
        "    paths.append(sub_path)\n",
        "  return paths"
      ]
    },
    {
      "cell_type": "code",
      "execution_count": 12,
      "metadata": {
        "id": "g8Tz8CafwoaV"
      },
      "outputs": [],
      "source": [
        "# Calculate overall Cost\n",
        "\n",
        "def SIC(path):\n",
        "  cost = 0\n",
        "  for p in path:\n",
        "    cost+=len(p)\n",
        "  return cost"
      ]
    },
    {
      "cell_type": "code",
      "execution_count": 13,
      "metadata": {
        "id": "WNjbMG48DE5q"
      },
      "outputs": [],
      "source": [
        "class State:\n",
        "  def __init__(self):\n",
        "    self.constraints = []\n",
        "    self.solution = []\n",
        "    self.cost = 0"
      ]
    },
    {
      "cell_type": "markdown",
      "metadata": {
        "id": "o2vaQNiu-JE_"
      },
      "source": [
        "# Conflict Based Search"
      ]
    },
    {
      "cell_type": "code",
      "execution_count": 14,
      "metadata": {
        "id": "Iv6fSNUbqoy4"
      },
      "outputs": [],
      "source": [
        "def cbs_algo(initial_pos, final_pos):\n",
        "  root = State()\n",
        "  root.constraints = []\n",
        "  root.solution = find_paths(initial_pos, final_pos, root.constraints)\n",
        "  root.cost = SIC(root.solution)\n",
        "\n",
        "  OPEN = [root]\n",
        "\n",
        "  while(OPEN):\n",
        "      P = min(OPEN, key=lambda n: n.cost)\n",
        "      OPEN.remove(P)\n",
        "\n",
        "      conflicts = validate_paths(P)\n",
        "      if (conflicts == None):\n",
        "        return P.solution\n",
        "\n",
        "      C = conflicts[0:2]\n",
        "\n",
        "      for agent in C:\n",
        "        state = conflicts[2]\n",
        "        time = conflicts[3]\n",
        "        A = State()\n",
        "        A.constraints.extend(P.constraints)\n",
        "        A.constraints.append((agent, state, time))\n",
        "\n",
        "        A.solution = find_paths(initial_pos, final_pos, A.constraints)\n",
        "        A.cost = SIC(A.solution)\n",
        "\n",
        "        if(A.cost < float('inf')):\n",
        "          OPEN.append(A)\n",
        "\n",
        "  return None\n"
      ]
    },
    {
      "cell_type": "code",
      "execution_count": 15,
      "metadata": {
        "id": "Bk7_koZuvw-G"
      },
      "outputs": [],
      "source": [
        "initial_2_pickup = cbs_algo(initial_pos, pickup_pos)\n",
        "pickup_2_delivery = cbs_algo(pickup_pos, delivery_pos)\n",
        "delivery_2_goal = cbs_algo(delivery_pos, goal_pos)"
      ]
    },
    {
      "cell_type": "code",
      "execution_count": 16,
      "metadata": {
        "id": "x3OaUxXJuyMe"
      },
      "outputs": [],
      "source": [
        "time1 = max(len(initial_2_pickup[i]) for i in range(num_agents))\n",
        "time2 = max(len(pickup_2_delivery[i]) for i in range(num_agents))\n",
        "time3 = max(len(delivery_2_goal[i]) for i in range(num_agents))"
      ]
    },
    {
      "cell_type": "code",
      "execution_count": 17,
      "metadata": {
        "id": "1kBJhZb6KFGH"
      },
      "outputs": [],
      "source": [
        "agent1_path = initial_2_pickup[0][:-1] + [(initial_2_pickup[0][-1]) for i in range(len(initial_2_pickup[0]), time1)] + pickup_2_delivery[0][:-1] +\\\n",
        " [(pickup_2_delivery[0][-1]) for i in range(len(pickup_2_delivery[0]), time2)] + delivery_2_goal[0][:] + \\\n",
        "  [(delivery_2_goal[0][-1]) for i in range(len(delivery_2_goal[0]), time3)]\n",
        "\n",
        "agent2_path = initial_2_pickup[1][:-1] + [(initial_2_pickup[1][-1]) for i in range(len(initial_2_pickup[1]), time1)] + pickup_2_delivery[1][:-1] +\\\n",
        " [(pickup_2_delivery[1][-1]) for i in range(len(pickup_2_delivery[1]), time2)] + delivery_2_goal[1][:] + \\\n",
        "  [(delivery_2_goal[1][-1]) for i in range(len(delivery_2_goal[1]), time3)]\n",
        "\n",
        "agent3_path = initial_2_pickup[2][:-1] + [(initial_2_pickup[2][-1]) for i in range(len(initial_2_pickup[2]), time1)] + pickup_2_delivery[2][:-1] +\\\n",
        " [(pickup_2_delivery[2][-1]) for i in range(len(pickup_2_delivery[2]), time2)] + delivery_2_goal[2][:] + \\\n",
        "  [(delivery_2_goal[2][-1]) for i in range(len(delivery_2_goal[2]), time3)]\n"
      ]
    },
    {
      "cell_type": "code",
      "execution_count": 18,
      "metadata": {
        "colab": {
          "base_uri": "https://localhost:8080/"
        },
        "id": "_-ZuI0m76Ari",
        "outputId": "184ff4b7-f131-4305-9764-bd1aa88856f8"
      },
      "outputs": [
        {
          "name": "stdout",
          "output_type": "stream",
          "text": [
            "Overall Time Completion: 32\n"
          ]
        }
      ],
      "source": [
        "print(f'Overall Time Completion: {len(agent3_path)}')"
      ]
    },
    {
      "cell_type": "code",
      "execution_count": 19,
      "metadata": {
        "colab": {
          "base_uri": "https://localhost:8080/"
        },
        "id": "k7ogmn1I8UVo",
        "outputId": "6bf0083c-de5c-4b9b-f99a-d2fa4f58c27e"
      },
      "outputs": [
        {
          "name": "stdout",
          "output_type": "stream",
          "text": [
            "Collecting prettytable\n",
            "  Downloading prettytable-3.9.0-py3-none-any.whl (27 kB)\n",
            "Requirement already satisfied: wcwidth in c:\\users\\anami\\anaconda3\\lib\\site-packages (from prettytable) (0.2.5)\n",
            "Installing collected packages: prettytable\n",
            "Successfully installed prettytable-3.9.0\n",
            "Note: you may need to restart the kernel to use updated packages.\n"
          ]
        }
      ],
      "source": [
        "pip install prettytable"
      ]
    },
    {
      "cell_type": "code",
      "execution_count": 20,
      "metadata": {
        "id": "PWdPsRto8WEC"
      },
      "outputs": [],
      "source": [
        "from prettytable import PrettyTable\n",
        "\n",
        "# Specify the Column Names while initializing the Table\n",
        "myTable = PrettyTable([\"Timestep\", \"Agent1\", \"Agent2\", \"Agent3\"])"
      ]
    },
    {
      "cell_type": "code",
      "execution_count": 21,
      "metadata": {
        "id": "Ez5dlwFY8hEK"
      },
      "outputs": [],
      "source": [
        "for i in range(len(agent1_path)):\n",
        "  myTable.add_row([i, agent1_path[i], agent2_path[i], agent3_path[i]])"
      ]
    },
    {
      "cell_type": "code",
      "execution_count": 22,
      "metadata": {
        "colab": {
          "base_uri": "https://localhost:8080/"
        },
        "id": "zs-EBfEM818C",
        "outputId": "cf4319a0-e066-4686-ff74-7b621a167b07"
      },
      "outputs": [
        {
          "name": "stdout",
          "output_type": "stream",
          "text": [
            "Overall Time Completion: 32\n",
            "+----------+---------+---------+---------+\n",
            "| Timestep |  Agent1 |  Agent2 |  Agent3 |\n",
            "+----------+---------+---------+---------+\n",
            "|    0     |  (0, 0) |  (9, 5) |  (7, 1) |\n",
            "|    1     |  (0, 1) |  (8, 5) |  (8, 1) |\n",
            "|    2     |  (0, 2) |  (7, 5) |  (9, 1) |\n",
            "|    3     |  (0, 3) |  (6, 5) | (10, 1) |\n",
            "|    4     |  (0, 4) |  (6, 4) | (11, 1) |\n",
            "|    5     |  (0, 5) |  (6, 4) | (12, 1) |\n",
            "|    6     |  (1, 5) |  (5, 4) | (12, 2) |\n",
            "|    7     |  (1, 4) |  (5, 5) | (13, 2) |\n",
            "|    8     |  (2, 4) |  (5, 5) | (13, 3) |\n",
            "|    9     |  (3, 4) |  (5, 5) | (14, 3) |\n",
            "|    10    |  (3, 3) |  (5, 5) | (15, 3) |\n",
            "|    11    |  (3, 2) |  (5, 5) | (15, 3) |\n",
            "|    12    |  (3, 1) |  (5, 5) | (15, 3) |\n",
            "|    13    |  (4, 1) |  (5, 5) | (15, 3) |\n",
            "|    14    |  (5, 1) |  (5, 5) | (15, 3) |\n",
            "|    15    |  (5, 0) |  (5, 5) | (15, 3) |\n",
            "|    16    |  (6, 0) |  (5, 5) | (15, 3) |\n",
            "|    17    |  (7, 0) |  (5, 5) | (15, 3) |\n",
            "|    18    |  (8, 0) |  (5, 5) | (15, 3) |\n",
            "|    19    |  (9, 0) |  (6, 5) | (14, 3) |\n",
            "|    20    |  (9, 1) |  (7, 5) | (13, 3) |\n",
            "|    21    |  (9, 2) |  (7, 4) | (12, 3) |\n",
            "|    22    | (10, 2) |  (8, 4) | (12, 2) |\n",
            "|    23    | (11, 2) |  (9, 4) | (12, 1) |\n",
            "|    24    | (11, 3) |  (9, 3) | (11, 1) |\n",
            "|    25    | (12, 3) | (10, 3) | (11, 0) |\n",
            "|    26    | (12, 3) | (10, 2) | (10, 0) |\n",
            "|    27    | (12, 3) | (10, 1) |  (9, 0) |\n",
            "|    28    | (12, 3) | (10, 0) |  (8, 0) |\n",
            "|    29    | (12, 3) | (10, 0) |  (7, 0) |\n",
            "|    30    | (12, 3) | (10, 0) |  (6, 0) |\n",
            "|    31    | (12, 3) | (10, 0) |  (5, 0) |\n",
            "+----------+---------+---------+---------+\n"
          ]
        }
      ],
      "source": [
        "print(f'Overall Time Completion: {len(agent3_path)}')\n",
        "print(myTable)"
      ]
    },
    {
      "cell_type": "markdown",
      "metadata": {
        "id": "KmmZcx1Pk3JI"
      },
      "source": [
        "## **Visualiser**\n"
      ]
    },
    {
      "cell_type": "code",
      "execution_count": 24,
      "metadata": {
        "colab": {
          "base_uri": "https://localhost:8080/",
          "height": 476
        },
        "id": "LLx03ZpDWmId",
        "outputId": "768dc96e-7317-4582-d13c-d5d755fe5668"
      },
      "outputs": [
        {
          "data": {
            "image/png": "[encoded data removed]",
            "text/plain": [
              "<Figure size 1296x576 with 1 Axes>"
            ]
          },
          "metadata": {
            "needs_background": "light"
          },
          "output_type": "display_data"
        }
      ],
      "source": [
        "import matplotlib.pyplot as plt\n",
        "import matplotlib.animation as animation\n",
        "import numpy as np\n",
        "\n",
        "# Define the figure and axis\n",
        "fig, ax = plt.subplots()\n",
        "fig.set_figheight(8)\n",
        "fig.set_figwidth(18)\n",
        "ax.set_xlim(-0.5, 18.5)\n",
        "ax.set_ylim(-0.5, 7.5)\n",
        "x_ticks = np.arange(0, 18, 1)\n",
        "ax.set_xticks(x_ticks)\n",
        "y_ticks = np.arange(0, 18, 1)\n",
        "ax.set_xticks(y_ticks)\n",
        "ax.grid(which='both')\n",
        "\n",
        "# Create a circular agent\n",
        "agent_radius = 0.3\n",
        "agent1 = plt.Circle((2, 2), agent_radius, fill=True, color='blue')\n",
        "agent2 = plt.Circle((2, 2), agent_radius, fill=True, color='red')\n",
        "agent3 = plt.Circle((2, 2), agent_radius, fill=True, color='yellow')\n",
        "\n",
        "ax.add_patch(agent1)\n",
        "ax.add_patch(agent2)\n",
        "ax.add_patch(agent3)\n",
        "\n",
        "# Set the start and goal positions\n",
        "start1 = agent1_path[0]\n",
        "goal1 = agent1_path[-1]\n",
        "start2 = agent2_path[0]\n",
        "goal2 = agent2_path[-1]\n",
        "start3 = agent3_path[0]\n",
        "goal3 = agent3_path[-1]\n",
        "\n",
        "path1 = agent1_path\n",
        "path2 = agent2_path\n",
        "path3 = agent3_path\n",
        "\n",
        "# Function to update the agent's position in the animation\n",
        "def update(frame):\n",
        "    agent1.center = path1[frame]\n",
        "    agent2.center = path2[frame]\n",
        "    agent3.center = path3[frame]\n",
        "    return agent1, agent2, agent3\n",
        "\n",
        "# Create an animation\n",
        "ani = animation.FuncAnimation(fig, update, frames= len(path1), repeat=False, blit=True)\n",
        "# Show the animation\n",
        "\n",
        "plt.plot(start1[0], start1[1], 'b*', markersize=20, label='Start1')\n",
        "plt.plot(goal1[0], goal1[1], 'bs', markersize=20, label='Goal1')\n",
        "plt.plot(start2[0], start2[1], 'r*', markersize=20, label='Start2')\n",
        "plt.plot(goal2[0], goal2[1], 'rs', markersize=20, label='Goal2')\n",
        "plt.plot(start3[0], start3[1], 'y*', markersize=20, label='Start3')\n",
        "plt.plot(goal3[0], goal3[1], 'ys', markersize=20, label='Goal3')\n",
        "\n",
        "plt.plot([obstacles[i][0] for i in range(len(obstacles))], [obstacles[i][1] for i in range(len(obstacles))], 'rx', markersize=16, label='Obstacles')\n",
        "plt.plot([pickup_pos[i][0] for i in range(len(pickup_pos))], [pickup_pos[i][1] for i in range(len(pickup_pos))], 'g^', markersize=16, label='Pickup')\n",
        "plt.plot([delivery_pos[i][0] for i in range(len(delivery_pos))], [delivery_pos[i][1] for i in range(len(delivery_pos))], 'm^', markersize=16, label='Delivery')\n",
        "plt.legend(labelspacing = 2)\n",
        "plt.gca().invert_yaxis()\n",
        "#plt.grid()\n",
        "plt.show()\n",
        "ani.save(\"anim.mp4\")"
      ]
    },
    {
      "cell_type": "code",
      "execution_count": null,
      "metadata": {
        "id": "lDCdN_8x0AeJ"
      },
      "outputs": [],
      "source": []
    }
  ],
  "metadata": {
    "colab": {
      "provenance": []
    },
    "kernelspec": {
      "display_name": "Python 3",
      "name": "python3"
    },
    "language_info": {
      "codemirror_mode": {
        "name": "ipython",
        "version": 3
      },
      "file_extension": ".py",
      "mimetype": "text/x-python",
      "name": "python",
      "nbconvert_exporter": "python",
      "pygments_lexer": "ipython3",
      "version": "3.8.8"
    }
  },
  "nbformat": 4,
  "nbformat_minor": 0
}
